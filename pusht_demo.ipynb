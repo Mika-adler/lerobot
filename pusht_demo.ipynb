{
 "cells": [
  {
   "cell_type": "markdown",
   "id": "d8240b7f",
   "metadata": {},
   "source": [
    "# LeRobot PushT Environment Demo\n",
    "\n",
    "This notebook demonstrates the gym-pusht environment from LeRobot. PushT is a 2D pushing task where the goal is to push a T-shaped block to a target location."
   ]
  },
  {
   "cell_type": "markdown",
   "id": "ea6213c9",
   "metadata": {},
   "source": [
    "## Import Required Libraries"
   ]
  },
  {
   "cell_type": "code",
   "execution_count": 15,
   "id": "006805b3",
   "metadata": {},
   "outputs": [
    {
     "name": "stdout",
     "output_type": "stream",
     "text": [
      "Requirement already satisfied: matplotlib in /home/mad/miniconda/envs/LeRobot/lib/python3.12/site-packages (3.10.7)\n",
      "Requirement already satisfied: pandas in /home/mad/miniconda/envs/LeRobot/lib/python3.12/site-packages (2.3.3)\n",
      "Requirement already satisfied: seaborn in /home/mad/miniconda/envs/LeRobot/lib/python3.12/site-packages (0.13.2)\n",
      "Requirement already satisfied: scikit-learn in /home/mad/miniconda/envs/LeRobot/lib/python3.12/site-packages (1.7.2)\n",
      "Requirement already satisfied: contourpy>=1.0.1 in /home/mad/miniconda/envs/LeRobot/lib/python3.12/site-packages (from matplotlib) (1.3.3)\n",
      "Requirement already satisfied: cycler>=0.10 in /home/mad/miniconda/envs/LeRobot/lib/python3.12/site-packages (from matplotlib) (0.12.1)\n",
      "Requirement already satisfied: fonttools>=4.22.0 in /home/mad/miniconda/envs/LeRobot/lib/python3.12/site-packages (from matplotlib) (4.60.1)\n",
      "Requirement already satisfied: kiwisolver>=1.3.1 in /home/mad/miniconda/envs/LeRobot/lib/python3.12/site-packages (from matplotlib) (1.4.9)\n",
      "Requirement already satisfied: numpy>=1.23 in /home/mad/miniconda/envs/LeRobot/lib/python3.12/site-packages (from matplotlib) (2.2.6)\n",
      "Requirement already satisfied: packaging>=20.0 in /home/mad/miniconda/envs/LeRobot/lib/python3.12/site-packages (from matplotlib) (25.0)\n",
      "Requirement already satisfied: pillow>=8 in /home/mad/miniconda/envs/LeRobot/lib/python3.12/site-packages (from matplotlib) (12.0.0)\n",
      "Requirement already satisfied: pyparsing>=3 in /home/mad/miniconda/envs/LeRobot/lib/python3.12/site-packages (from matplotlib) (3.2.5)\n",
      "Requirement already satisfied: python-dateutil>=2.7 in /home/mad/miniconda/envs/LeRobot/lib/python3.12/site-packages (from matplotlib) (2.9.0.post0)\n",
      "Requirement already satisfied: pytz>=2020.1 in /home/mad/miniconda/envs/LeRobot/lib/python3.12/site-packages (from pandas) (2025.2)\n",
      "Requirement already satisfied: tzdata>=2022.7 in /home/mad/miniconda/envs/LeRobot/lib/python3.12/site-packages (from pandas) (2025.2)\n",
      "Requirement already satisfied: scipy>=1.8.0 in /home/mad/miniconda/envs/LeRobot/lib/python3.12/site-packages (from scikit-learn) (1.16.2)\n",
      "Requirement already satisfied: joblib>=1.2.0 in /home/mad/miniconda/envs/LeRobot/lib/python3.12/site-packages (from scikit-learn) (1.5.2)\n",
      "Requirement already satisfied: threadpoolctl>=3.1.0 in /home/mad/miniconda/envs/LeRobot/lib/python3.12/site-packages (from scikit-learn) (3.6.0)\n",
      "Requirement already satisfied: six>=1.5 in /home/mad/miniconda/envs/LeRobot/lib/python3.12/site-packages (from python-dateutil>=2.7->matplotlib) (1.17.0)\n",
      "Requirement already satisfied: Ipython in /home/mad/miniconda/envs/LeRobot/lib/python3.12/site-packages (9.6.0)\n",
      "Requirement already satisfied: decorator in /home/mad/miniconda/envs/LeRobot/lib/python3.12/site-packages (from Ipython) (5.2.1)\n",
      "Requirement already satisfied: ipython-pygments-lexers in /home/mad/miniconda/envs/LeRobot/lib/python3.12/site-packages (from Ipython) (1.1.1)\n",
      "Requirement already satisfied: jedi>=0.16 in /home/mad/miniconda/envs/LeRobot/lib/python3.12/site-packages (from Ipython) (0.19.2)\n",
      "Requirement already satisfied: matplotlib-inline in /home/mad/miniconda/envs/LeRobot/lib/python3.12/site-packages (from Ipython) (0.1.7)\n",
      "Requirement already satisfied: pexpect>4.3 in /home/mad/miniconda/envs/LeRobot/lib/python3.12/site-packages (from Ipython) (4.9.0)\n",
      "Requirement already satisfied: prompt_toolkit<3.1.0,>=3.0.41 in /home/mad/miniconda/envs/LeRobot/lib/python3.12/site-packages (from Ipython) (3.0.52)\n",
      "Requirement already satisfied: pygments>=2.4.0 in /home/mad/miniconda/envs/LeRobot/lib/python3.12/site-packages (from Ipython) (2.19.2)\n",
      "Requirement already satisfied: stack_data in /home/mad/miniconda/envs/LeRobot/lib/python3.12/site-packages (from Ipython) (0.6.3)\n",
      "Requirement already satisfied: traitlets>=5.13.0 in /home/mad/miniconda/envs/LeRobot/lib/python3.12/site-packages (from Ipython) (5.14.3)\n",
      "Requirement already satisfied: wcwidth in /home/mad/miniconda/envs/LeRobot/lib/python3.12/site-packages (from prompt_toolkit<3.1.0,>=3.0.41->Ipython) (0.2.14)\n",
      "Requirement already satisfied: parso<0.9.0,>=0.8.4 in /home/mad/miniconda/envs/LeRobot/lib/python3.12/site-packages (from jedi>=0.16->Ipython) (0.8.5)\n",
      "Requirement already satisfied: ptyprocess>=0.5 in /home/mad/miniconda/envs/LeRobot/lib/python3.12/site-packages (from pexpect>4.3->Ipython) (0.7.0)\n",
      "Requirement already satisfied: executing>=1.2.0 in /home/mad/miniconda/envs/LeRobot/lib/python3.12/site-packages (from stack_data->Ipython) (2.2.1)\n",
      "Requirement already satisfied: asttokens>=2.1.0 in /home/mad/miniconda/envs/LeRobot/lib/python3.12/site-packages (from stack_data->Ipython) (3.0.0)\n",
      "Requirement already satisfied: pure_eval in /home/mad/miniconda/envs/LeRobot/lib/python3.12/site-packages (from stack_data->Ipython) (0.2.3)\n",
      "Requirement already satisfied: Ipython in /home/mad/miniconda/envs/LeRobot/lib/python3.12/site-packages (9.6.0)\n",
      "Requirement already satisfied: decorator in /home/mad/miniconda/envs/LeRobot/lib/python3.12/site-packages (from Ipython) (5.2.1)\n",
      "Requirement already satisfied: ipython-pygments-lexers in /home/mad/miniconda/envs/LeRobot/lib/python3.12/site-packages (from Ipython) (1.1.1)\n",
      "Requirement already satisfied: jedi>=0.16 in /home/mad/miniconda/envs/LeRobot/lib/python3.12/site-packages (from Ipython) (0.19.2)\n",
      "Requirement already satisfied: matplotlib-inline in /home/mad/miniconda/envs/LeRobot/lib/python3.12/site-packages (from Ipython) (0.1.7)\n",
      "Requirement already satisfied: pexpect>4.3 in /home/mad/miniconda/envs/LeRobot/lib/python3.12/site-packages (from Ipython) (4.9.0)\n",
      "Requirement already satisfied: prompt_toolkit<3.1.0,>=3.0.41 in /home/mad/miniconda/envs/LeRobot/lib/python3.12/site-packages (from Ipython) (3.0.52)\n",
      "Requirement already satisfied: pygments>=2.4.0 in /home/mad/miniconda/envs/LeRobot/lib/python3.12/site-packages (from Ipython) (2.19.2)\n",
      "Requirement already satisfied: stack_data in /home/mad/miniconda/envs/LeRobot/lib/python3.12/site-packages (from Ipython) (0.6.3)\n",
      "Requirement already satisfied: traitlets>=5.13.0 in /home/mad/miniconda/envs/LeRobot/lib/python3.12/site-packages (from Ipython) (5.14.3)\n",
      "Requirement already satisfied: wcwidth in /home/mad/miniconda/envs/LeRobot/lib/python3.12/site-packages (from prompt_toolkit<3.1.0,>=3.0.41->Ipython) (0.2.14)\n",
      "Requirement already satisfied: parso<0.9.0,>=0.8.4 in /home/mad/miniconda/envs/LeRobot/lib/python3.12/site-packages (from jedi>=0.16->Ipython) (0.8.5)\n",
      "Requirement already satisfied: ptyprocess>=0.5 in /home/mad/miniconda/envs/LeRobot/lib/python3.12/site-packages (from pexpect>4.3->Ipython) (0.7.0)\n",
      "Requirement already satisfied: executing>=1.2.0 in /home/mad/miniconda/envs/LeRobot/lib/python3.12/site-packages (from stack_data->Ipython) (2.2.1)\n",
      "Requirement already satisfied: asttokens>=2.1.0 in /home/mad/miniconda/envs/LeRobot/lib/python3.12/site-packages (from stack_data->Ipython) (3.0.0)\n",
      "Requirement already satisfied: pure_eval in /home/mad/miniconda/envs/LeRobot/lib/python3.12/site-packages (from stack_data->Ipython) (0.2.3)\n",
      "Requirement already satisfied: gym-pusht in /home/mad/miniconda/envs/LeRobot/lib/python3.12/site-packages (0.1.6)\n",
      "Requirement already satisfied: pymunk==6.11.1 in /home/mad/miniconda/envs/LeRobot/lib/python3.12/site-packages (6.11.1)\n",
      "Requirement already satisfied: cffi>=1.17.1 in /home/mad/miniconda/envs/LeRobot/lib/python3.12/site-packages (from pymunk==6.11.1) (2.0.0)\n",
      "Requirement already satisfied: gymnasium>=0.29.1 in /home/mad/miniconda/envs/LeRobot/lib/python3.12/site-packages (from gym-pusht) (1.2.1)\n",
      "Requirement already satisfied: opencv-python>=4.9.0 in /home/mad/miniconda/envs/LeRobot/lib/python3.12/site-packages (from gym-pusht) (4.12.0.88)\n",
      "Requirement already satisfied: pygame>=2.5.2 in /home/mad/miniconda/envs/LeRobot/lib/python3.12/site-packages (from gym-pusht) (2.6.1)\n",
      "Requirement already satisfied: scikit-image>=0.22.0 in /home/mad/miniconda/envs/LeRobot/lib/python3.12/site-packages (from gym-pusht) (0.25.2)\n",
      "Requirement already satisfied: shapely>=2.0.3 in /home/mad/miniconda/envs/LeRobot/lib/python3.12/site-packages (from gym-pusht) (2.1.2)\n",
      "Requirement already satisfied: pycparser in /home/mad/miniconda/envs/LeRobot/lib/python3.12/site-packages (from cffi>=1.17.1->pymunk==6.11.1) (2.23)\n",
      "Requirement already satisfied: numpy>=1.21.0 in /home/mad/miniconda/envs/LeRobot/lib/python3.12/site-packages (from gymnasium>=0.29.1->gym-pusht) (2.2.6)\n",
      "Requirement already satisfied: cloudpickle>=1.2.0 in /home/mad/miniconda/envs/LeRobot/lib/python3.12/site-packages (from gymnasium>=0.29.1->gym-pusht) (3.1.1)\n",
      "Requirement already satisfied: typing-extensions>=4.3.0 in /home/mad/miniconda/envs/LeRobot/lib/python3.12/site-packages (from gymnasium>=0.29.1->gym-pusht) (4.15.0)\n",
      "Requirement already satisfied: farama-notifications>=0.0.1 in /home/mad/miniconda/envs/LeRobot/lib/python3.12/site-packages (from gymnasium>=0.29.1->gym-pusht) (0.0.4)\n",
      "Requirement already satisfied: scipy>=1.11.4 in /home/mad/miniconda/envs/LeRobot/lib/python3.12/site-packages (from scikit-image>=0.22.0->gym-pusht) (1.16.2)\n",
      "Requirement already satisfied: networkx>=3.0 in /home/mad/miniconda/envs/LeRobot/lib/python3.12/site-packages (from scikit-image>=0.22.0->gym-pusht) (3.5)\n",
      "Requirement already satisfied: pillow>=10.1 in /home/mad/miniconda/envs/LeRobot/lib/python3.12/site-packages (from scikit-image>=0.22.0->gym-pusht) (12.0.0)\n",
      "Requirement already satisfied: imageio!=2.35.0,>=2.33 in /home/mad/miniconda/envs/LeRobot/lib/python3.12/site-packages (from scikit-image>=0.22.0->gym-pusht) (2.37.0)\n",
      "Requirement already satisfied: tifffile>=2022.8.12 in /home/mad/miniconda/envs/LeRobot/lib/python3.12/site-packages (from scikit-image>=0.22.0->gym-pusht) (2025.10.4)\n",
      "Requirement already satisfied: packaging>=21 in /home/mad/miniconda/envs/LeRobot/lib/python3.12/site-packages (from scikit-image>=0.22.0->gym-pusht) (25.0)\n",
      "Requirement already satisfied: lazy-loader>=0.4 in /home/mad/miniconda/envs/LeRobot/lib/python3.12/site-packages (from scikit-image>=0.22.0->gym-pusht) (0.4)\n",
      "Requirement already satisfied: gym-pusht in /home/mad/miniconda/envs/LeRobot/lib/python3.12/site-packages (0.1.6)\n",
      "Requirement already satisfied: pymunk==6.11.1 in /home/mad/miniconda/envs/LeRobot/lib/python3.12/site-packages (6.11.1)\n",
      "Requirement already satisfied: cffi>=1.17.1 in /home/mad/miniconda/envs/LeRobot/lib/python3.12/site-packages (from pymunk==6.11.1) (2.0.0)\n",
      "Requirement already satisfied: gymnasium>=0.29.1 in /home/mad/miniconda/envs/LeRobot/lib/python3.12/site-packages (from gym-pusht) (1.2.1)\n",
      "Requirement already satisfied: opencv-python>=4.9.0 in /home/mad/miniconda/envs/LeRobot/lib/python3.12/site-packages (from gym-pusht) (4.12.0.88)\n",
      "Requirement already satisfied: pygame>=2.5.2 in /home/mad/miniconda/envs/LeRobot/lib/python3.12/site-packages (from gym-pusht) (2.6.1)\n",
      "Requirement already satisfied: scikit-image>=0.22.0 in /home/mad/miniconda/envs/LeRobot/lib/python3.12/site-packages (from gym-pusht) (0.25.2)\n",
      "Requirement already satisfied: shapely>=2.0.3 in /home/mad/miniconda/envs/LeRobot/lib/python3.12/site-packages (from gym-pusht) (2.1.2)\n",
      "Requirement already satisfied: pycparser in /home/mad/miniconda/envs/LeRobot/lib/python3.12/site-packages (from cffi>=1.17.1->pymunk==6.11.1) (2.23)\n",
      "Requirement already satisfied: numpy>=1.21.0 in /home/mad/miniconda/envs/LeRobot/lib/python3.12/site-packages (from gymnasium>=0.29.1->gym-pusht) (2.2.6)\n",
      "Requirement already satisfied: cloudpickle>=1.2.0 in /home/mad/miniconda/envs/LeRobot/lib/python3.12/site-packages (from gymnasium>=0.29.1->gym-pusht) (3.1.1)\n",
      "Requirement already satisfied: typing-extensions>=4.3.0 in /home/mad/miniconda/envs/LeRobot/lib/python3.12/site-packages (from gymnasium>=0.29.1->gym-pusht) (4.15.0)\n",
      "Requirement already satisfied: farama-notifications>=0.0.1 in /home/mad/miniconda/envs/LeRobot/lib/python3.12/site-packages (from gymnasium>=0.29.1->gym-pusht) (0.0.4)\n",
      "Requirement already satisfied: scipy>=1.11.4 in /home/mad/miniconda/envs/LeRobot/lib/python3.12/site-packages (from scikit-image>=0.22.0->gym-pusht) (1.16.2)\n",
      "Requirement already satisfied: networkx>=3.0 in /home/mad/miniconda/envs/LeRobot/lib/python3.12/site-packages (from scikit-image>=0.22.0->gym-pusht) (3.5)\n",
      "Requirement already satisfied: pillow>=10.1 in /home/mad/miniconda/envs/LeRobot/lib/python3.12/site-packages (from scikit-image>=0.22.0->gym-pusht) (12.0.0)\n",
      "Requirement already satisfied: imageio!=2.35.0,>=2.33 in /home/mad/miniconda/envs/LeRobot/lib/python3.12/site-packages (from scikit-image>=0.22.0->gym-pusht) (2.37.0)\n",
      "Requirement already satisfied: tifffile>=2022.8.12 in /home/mad/miniconda/envs/LeRobot/lib/python3.12/site-packages (from scikit-image>=0.22.0->gym-pusht) (2025.10.4)\n",
      "Requirement already satisfied: packaging>=21 in /home/mad/miniconda/envs/LeRobot/lib/python3.12/site-packages (from scikit-image>=0.22.0->gym-pusht) (25.0)\n",
      "Requirement already satisfied: lazy-loader>=0.4 in /home/mad/miniconda/envs/LeRobot/lib/python3.12/site-packages (from scikit-image>=0.22.0->gym-pusht) (0.4)\n"
     ]
    }
   ],
   "source": [
    "!pip install matplotlib pandas seaborn scikit-learn\n",
    "!pip install Ipython\n",
    "# Install gym-pusht environment with compatible pymunk version\n",
    "!pip install gym-pusht pymunk==6.11.1"
   ]
  },
  {
   "cell_type": "markdown",
   "id": "3330840e",
   "metadata": {},
   "source": [
    "**Note:** After running the installation cell above, you may need to restart the kernel if you get compatibility errors."
   ]
  },
  {
   "cell_type": "code",
   "execution_count": 16,
   "id": "3f4f59c3",
   "metadata": {},
   "outputs": [],
   "source": [
    "import gymnasium as gym\n",
    "import numpy as np\n",
    "import matplotlib.pyplot as plt\n",
    "from IPython.display import clear_output\n",
    "import time"
   ]
  },
  {
   "cell_type": "code",
   "execution_count": 17,
   "id": "529fd850",
   "metadata": {},
   "outputs": [],
   "source": [
    "# Suppress deprecation warnings\n",
    "import warnings\n",
    "warnings.filterwarnings('ignore', category=UserWarning)"
   ]
  },
  {
   "cell_type": "code",
   "execution_count": null,
   "id": "cca0615b",
   "metadata": {},
   "outputs": [],
   "source": [
    "# Verify pymunk version (should be 6.11.1 for gym-pusht compatibility)\n",
    "import pymunk\n",
    "print(f\"Pymunk version: {pymunk.version}\")\n",
    "if not pymunk.version.startswith('6.'):\n",
    "    print(\"⚠️  WARNING: Wrong pymunk version! Please restart kernel and reinstall.\")\n",
    "else:\n",
    "    print(\"✓ Pymunk version is correct!\")"
   ]
  },
  {
   "cell_type": "code",
   "execution_count": 18,
   "id": "f34bd93d",
   "metadata": {},
   "outputs": [],
   "source": [
    "# Import gym_pusht to register the environment\n",
    "import gym_pusht.envs"
   ]
  },
  {
   "cell_type": "markdown",
   "id": "29be146c",
   "metadata": {},
   "source": [
    "## Create the PushT Environment"
   ]
  },
  {
   "cell_type": "code",
   "execution_count": 19,
   "id": "02a7689c",
   "metadata": {},
   "outputs": [
    {
     "name": "stdout",
     "output_type": "stream",
     "text": [
      "Observation space: Box(0.0, [512.         512.         512.         512.           6.28318531], (5,), float64)\n",
      "Action space: Box(0.0, 512.0, (2,), float32)\n"
     ]
    }
   ],
   "source": [
    "# Create the environment\n",
    "env = gym.make('gym_pusht/PushT-v0', render_mode='rgb_array')\n",
    "\n",
    "print(f\"Observation space: {env.observation_space}\")\n",
    "print(f\"Action space: {env.action_space}\")"
   ]
  },
  {
   "cell_type": "markdown",
   "id": "eb995058",
   "metadata": {},
   "source": [
    "## Reset Environment and Visualize Initial State"
   ]
  },
  {
   "cell_type": "code",
   "execution_count": 20,
   "id": "cc3e63ca",
   "metadata": {},
   "outputs": [
    {
     "ename": "AttributeError",
     "evalue": "'Space' object has no attribute 'add_collision_handler'",
     "output_type": "error",
     "traceback": [
      "\u001b[31m---------------------------------------------------------------------------\u001b[39m",
      "\u001b[31mAttributeError\u001b[39m                            Traceback (most recent call last)",
      "\u001b[36mCell\u001b[39m\u001b[36m \u001b[39m\u001b[32mIn[20]\u001b[39m\u001b[32m, line 2\u001b[39m\n\u001b[32m      1\u001b[39m \u001b[38;5;66;03m# Reset the environment\u001b[39;00m\n\u001b[32m----> \u001b[39m\u001b[32m2\u001b[39m observation, info = \u001b[43menv\u001b[49m\u001b[43m.\u001b[49m\u001b[43mreset\u001b[49m\u001b[43m(\u001b[49m\u001b[43mseed\u001b[49m\u001b[43m=\u001b[49m\u001b[32;43m42\u001b[39;49m\u001b[43m)\u001b[49m\n\u001b[32m      4\u001b[39m \u001b[38;5;66;03m# Render and display the initial state\u001b[39;00m\n\u001b[32m      5\u001b[39m frame = env.render()\n",
      "\u001b[36mFile \u001b[39m\u001b[32m~/miniconda/envs/LeRobot/lib/python3.12/site-packages/gymnasium/wrappers/common.py:146\u001b[39m, in \u001b[36mTimeLimit.reset\u001b[39m\u001b[34m(self, seed, options)\u001b[39m\n\u001b[32m    136\u001b[39m \u001b[38;5;250m\u001b[39m\u001b[33;03m\"\"\"Resets the environment with :param:`**kwargs` and sets the number of steps elapsed to zero.\u001b[39;00m\n\u001b[32m    137\u001b[39m \n\u001b[32m    138\u001b[39m \u001b[33;03mArgs:\u001b[39;00m\n\u001b[32m   (...)\u001b[39m\u001b[32m    143\u001b[39m \u001b[33;03m    The reset environment\u001b[39;00m\n\u001b[32m    144\u001b[39m \u001b[33;03m\"\"\"\u001b[39;00m\n\u001b[32m    145\u001b[39m \u001b[38;5;28mself\u001b[39m._elapsed_steps = \u001b[32m0\u001b[39m\n\u001b[32m--> \u001b[39m\u001b[32m146\u001b[39m \u001b[38;5;28;01mreturn\u001b[39;00m \u001b[38;5;28;43msuper\u001b[39;49m\u001b[43m(\u001b[49m\u001b[43m)\u001b[49m\u001b[43m.\u001b[49m\u001b[43mreset\u001b[49m\u001b[43m(\u001b[49m\u001b[43mseed\u001b[49m\u001b[43m=\u001b[49m\u001b[43mseed\u001b[49m\u001b[43m,\u001b[49m\u001b[43m \u001b[49m\u001b[43moptions\u001b[49m\u001b[43m=\u001b[49m\u001b[43moptions\u001b[49m\u001b[43m)\u001b[49m\n",
      "\u001b[36mFile \u001b[39m\u001b[32m~/miniconda/envs/LeRobot/lib/python3.12/site-packages/gymnasium/core.py:333\u001b[39m, in \u001b[36mWrapper.reset\u001b[39m\u001b[34m(self, seed, options)\u001b[39m\n\u001b[32m    329\u001b[39m \u001b[38;5;28;01mdef\u001b[39;00m\u001b[38;5;250m \u001b[39m\u001b[34mreset\u001b[39m(\n\u001b[32m    330\u001b[39m     \u001b[38;5;28mself\u001b[39m, *, seed: \u001b[38;5;28mint\u001b[39m | \u001b[38;5;28;01mNone\u001b[39;00m = \u001b[38;5;28;01mNone\u001b[39;00m, options: \u001b[38;5;28mdict\u001b[39m[\u001b[38;5;28mstr\u001b[39m, Any] | \u001b[38;5;28;01mNone\u001b[39;00m = \u001b[38;5;28;01mNone\u001b[39;00m\n\u001b[32m    331\u001b[39m ) -> \u001b[38;5;28mtuple\u001b[39m[WrapperObsType, \u001b[38;5;28mdict\u001b[39m[\u001b[38;5;28mstr\u001b[39m, Any]]:\n\u001b[32m    332\u001b[39m \u001b[38;5;250m    \u001b[39m\u001b[33;03m\"\"\"Uses the :meth:`reset` of the :attr:`env` that can be overwritten to change the returned data.\"\"\"\u001b[39;00m\n\u001b[32m--> \u001b[39m\u001b[32m333\u001b[39m     \u001b[38;5;28;01mreturn\u001b[39;00m \u001b[38;5;28;43mself\u001b[39;49m\u001b[43m.\u001b[49m\u001b[43menv\u001b[49m\u001b[43m.\u001b[49m\u001b[43mreset\u001b[49m\u001b[43m(\u001b[49m\u001b[43mseed\u001b[49m\u001b[43m=\u001b[49m\u001b[43mseed\u001b[49m\u001b[43m,\u001b[49m\u001b[43m \u001b[49m\u001b[43moptions\u001b[49m\u001b[43m=\u001b[49m\u001b[43moptions\u001b[49m\u001b[43m)\u001b[49m\n",
      "\u001b[36mFile \u001b[39m\u001b[32m~/miniconda/envs/LeRobot/lib/python3.12/site-packages/gymnasium/wrappers/common.py:400\u001b[39m, in \u001b[36mOrderEnforcing.reset\u001b[39m\u001b[34m(self, seed, options)\u001b[39m\n\u001b[32m    398\u001b[39m \u001b[38;5;250m\u001b[39m\u001b[33;03m\"\"\"Resets the environment with `kwargs`.\"\"\"\u001b[39;00m\n\u001b[32m    399\u001b[39m \u001b[38;5;28mself\u001b[39m._has_reset = \u001b[38;5;28;01mTrue\u001b[39;00m\n\u001b[32m--> \u001b[39m\u001b[32m400\u001b[39m \u001b[38;5;28;01mreturn\u001b[39;00m \u001b[38;5;28;43msuper\u001b[39;49m\u001b[43m(\u001b[49m\u001b[43m)\u001b[49m\u001b[43m.\u001b[49m\u001b[43mreset\u001b[49m\u001b[43m(\u001b[49m\u001b[43mseed\u001b[49m\u001b[43m=\u001b[49m\u001b[43mseed\u001b[49m\u001b[43m,\u001b[49m\u001b[43m \u001b[49m\u001b[43moptions\u001b[49m\u001b[43m=\u001b[49m\u001b[43moptions\u001b[49m\u001b[43m)\u001b[49m\n",
      "\u001b[36mFile \u001b[39m\u001b[32m~/miniconda/envs/LeRobot/lib/python3.12/site-packages/gymnasium/core.py:333\u001b[39m, in \u001b[36mWrapper.reset\u001b[39m\u001b[34m(self, seed, options)\u001b[39m\n\u001b[32m    329\u001b[39m \u001b[38;5;28;01mdef\u001b[39;00m\u001b[38;5;250m \u001b[39m\u001b[34mreset\u001b[39m(\n\u001b[32m    330\u001b[39m     \u001b[38;5;28mself\u001b[39m, *, seed: \u001b[38;5;28mint\u001b[39m | \u001b[38;5;28;01mNone\u001b[39;00m = \u001b[38;5;28;01mNone\u001b[39;00m, options: \u001b[38;5;28mdict\u001b[39m[\u001b[38;5;28mstr\u001b[39m, Any] | \u001b[38;5;28;01mNone\u001b[39;00m = \u001b[38;5;28;01mNone\u001b[39;00m\n\u001b[32m    331\u001b[39m ) -> \u001b[38;5;28mtuple\u001b[39m[WrapperObsType, \u001b[38;5;28mdict\u001b[39m[\u001b[38;5;28mstr\u001b[39m, Any]]:\n\u001b[32m    332\u001b[39m \u001b[38;5;250m    \u001b[39m\u001b[33;03m\"\"\"Uses the :meth:`reset` of the :attr:`env` that can be overwritten to change the returned data.\"\"\"\u001b[39;00m\n\u001b[32m--> \u001b[39m\u001b[32m333\u001b[39m     \u001b[38;5;28;01mreturn\u001b[39;00m \u001b[38;5;28;43mself\u001b[39;49m\u001b[43m.\u001b[49m\u001b[43menv\u001b[49m\u001b[43m.\u001b[49m\u001b[43mreset\u001b[49m\u001b[43m(\u001b[49m\u001b[43mseed\u001b[49m\u001b[43m=\u001b[49m\u001b[43mseed\u001b[49m\u001b[43m,\u001b[49m\u001b[43m \u001b[49m\u001b[43moptions\u001b[49m\u001b[43m=\u001b[49m\u001b[43moptions\u001b[49m\u001b[43m)\u001b[49m\n",
      "\u001b[36mFile \u001b[39m\u001b[32m~/miniconda/envs/LeRobot/lib/python3.12/site-packages/gymnasium/wrappers/common.py:293\u001b[39m, in \u001b[36mPassiveEnvChecker.reset\u001b[39m\u001b[34m(self, seed, options)\u001b[39m\n\u001b[32m    291\u001b[39m \u001b[38;5;28;01mif\u001b[39;00m \u001b[38;5;28mself\u001b[39m.checked_reset \u001b[38;5;129;01mis\u001b[39;00m \u001b[38;5;28;01mFalse\u001b[39;00m:\n\u001b[32m    292\u001b[39m     \u001b[38;5;28mself\u001b[39m.checked_reset = \u001b[38;5;28;01mTrue\u001b[39;00m\n\u001b[32m--> \u001b[39m\u001b[32m293\u001b[39m     \u001b[38;5;28;01mreturn\u001b[39;00m \u001b[43menv_reset_passive_checker\u001b[49m\u001b[43m(\u001b[49m\u001b[38;5;28;43mself\u001b[39;49m\u001b[43m.\u001b[49m\u001b[43menv\u001b[49m\u001b[43m,\u001b[49m\u001b[43m \u001b[49m\u001b[43mseed\u001b[49m\u001b[43m=\u001b[49m\u001b[43mseed\u001b[49m\u001b[43m,\u001b[49m\u001b[43m \u001b[49m\u001b[43moptions\u001b[49m\u001b[43m=\u001b[49m\u001b[43moptions\u001b[49m\u001b[43m)\u001b[49m\n\u001b[32m    294\u001b[39m \u001b[38;5;28;01melse\u001b[39;00m:\n\u001b[32m    295\u001b[39m     \u001b[38;5;28;01mreturn\u001b[39;00m \u001b[38;5;28mself\u001b[39m.env.reset(seed=seed, options=options)\n",
      "\u001b[36mFile \u001b[39m\u001b[32m~/miniconda/envs/LeRobot/lib/python3.12/site-packages/gymnasium/utils/passive_env_checker.py:185\u001b[39m, in \u001b[36menv_reset_passive_checker\u001b[39m\u001b[34m(env, **kwargs)\u001b[39m\n\u001b[32m    180\u001b[39m     logger.deprecation(\n\u001b[32m    181\u001b[39m         \u001b[33m\"\u001b[39m\u001b[33mCurrent gymnasium version requires that `Env.reset` can be passed `options` to allow the environment initialisation to be passed additional information.\u001b[39m\u001b[33m\"\u001b[39m\n\u001b[32m    182\u001b[39m     )\n\u001b[32m    184\u001b[39m \u001b[38;5;66;03m# Checks the result of env.reset with kwargs\u001b[39;00m\n\u001b[32m--> \u001b[39m\u001b[32m185\u001b[39m result = \u001b[43menv\u001b[49m\u001b[43m.\u001b[49m\u001b[43mreset\u001b[49m\u001b[43m(\u001b[49m\u001b[43m*\u001b[49m\u001b[43m*\u001b[49m\u001b[43mkwargs\u001b[49m\u001b[43m)\u001b[49m\n\u001b[32m    187\u001b[39m \u001b[38;5;28;01mif\u001b[39;00m \u001b[38;5;129;01mnot\u001b[39;00m \u001b[38;5;28misinstance\u001b[39m(result, \u001b[38;5;28mtuple\u001b[39m):\n\u001b[32m    188\u001b[39m     logger.warn(\n\u001b[32m    189\u001b[39m         \u001b[33mf\u001b[39m\u001b[33m\"\u001b[39m\u001b[33mThe result returned by `env.reset()` was not a tuple of the form `(obs, info)`, where `obs` is a observation and `info` is a dictionary containing additional information. Actual type: `\u001b[39m\u001b[38;5;132;01m{\u001b[39;00m\u001b[38;5;28mtype\u001b[39m(result)\u001b[38;5;132;01m}\u001b[39;00m\u001b[33m`\u001b[39m\u001b[33m\"\u001b[39m\n\u001b[32m    190\u001b[39m     )\n",
      "\u001b[36mFile \u001b[39m\u001b[32m~/miniconda/envs/LeRobot/lib/python3.12/site-packages/gym_pusht/envs/pusht.py:270\u001b[39m, in \u001b[36mPushTEnv.reset\u001b[39m\u001b[34m(self, seed, options)\u001b[39m\n\u001b[32m    268\u001b[39m \u001b[38;5;28;01mdef\u001b[39;00m\u001b[38;5;250m \u001b[39m\u001b[34mreset\u001b[39m(\u001b[38;5;28mself\u001b[39m, seed=\u001b[38;5;28;01mNone\u001b[39;00m, options=\u001b[38;5;28;01mNone\u001b[39;00m):\n\u001b[32m    269\u001b[39m     \u001b[38;5;28msuper\u001b[39m().reset(seed=seed)\n\u001b[32m--> \u001b[39m\u001b[32m270\u001b[39m     \u001b[38;5;28;43mself\u001b[39;49m\u001b[43m.\u001b[49m\u001b[43m_setup\u001b[49m\u001b[43m(\u001b[49m\u001b[43m)\u001b[49m\n\u001b[32m    272\u001b[39m     \u001b[38;5;28;01mif\u001b[39;00m options \u001b[38;5;129;01mis\u001b[39;00m \u001b[38;5;129;01mnot\u001b[39;00m \u001b[38;5;28;01mNone\u001b[39;00m \u001b[38;5;129;01mand\u001b[39;00m options.get(\u001b[33m\"\u001b[39m\u001b[33mreset_to_state\u001b[39m\u001b[33m\"\u001b[39m) \u001b[38;5;129;01mis\u001b[39;00m \u001b[38;5;129;01mnot\u001b[39;00m \u001b[38;5;28;01mNone\u001b[39;00m:\n\u001b[32m    273\u001b[39m         state = np.array(options.get(\u001b[33m\"\u001b[39m\u001b[33mreset_to_state\u001b[39m\u001b[33m\"\u001b[39m))\n",
      "\u001b[36mFile \u001b[39m\u001b[32m~/miniconda/envs/LeRobot/lib/python3.12/site-packages/gym_pusht/envs/pusht.py:452\u001b[39m, in \u001b[36mPushTEnv._setup\u001b[39m\u001b[34m(self)\u001b[39m\n\u001b[32m    449\u001b[39m     \u001b[38;5;28mself\u001b[39m.block.center_of_gravity = \u001b[38;5;28mself\u001b[39m.block_cog\n\u001b[32m    451\u001b[39m \u001b[38;5;66;03m# Add collision handling\u001b[39;00m\n\u001b[32m--> \u001b[39m\u001b[32m452\u001b[39m \u001b[38;5;28mself\u001b[39m.collision_handeler = \u001b[38;5;28;43mself\u001b[39;49m\u001b[43m.\u001b[49m\u001b[43mspace\u001b[49m\u001b[43m.\u001b[49m\u001b[43madd_collision_handler\u001b[49m(\u001b[32m0\u001b[39m, \u001b[32m0\u001b[39m)\n\u001b[32m    453\u001b[39m \u001b[38;5;28mself\u001b[39m.collision_handeler.post_solve = \u001b[38;5;28mself\u001b[39m._handle_collision\n\u001b[32m    454\u001b[39m \u001b[38;5;28mself\u001b[39m.n_contact_points = \u001b[32m0\u001b[39m\n",
      "\u001b[31mAttributeError\u001b[39m: 'Space' object has no attribute 'add_collision_handler'"
     ]
    }
   ],
   "source": [
    "# Reset the environment\n",
    "observation, info = env.reset(seed=42)\n",
    "\n",
    "# Render and display the initial state\n",
    "frame = env.render()\n",
    "\n",
    "plt.figure(figsize=(8, 8))\n",
    "plt.imshow(frame)\n",
    "plt.title(\"Initial State of PushT Environment\")\n",
    "plt.axis('off')\n",
    "plt.show()\n",
    "\n",
    "print(f\"Observation shape: {observation['pixels'].shape if 'pixels' in observation else observation.shape}\")"
   ]
  },
  {
   "cell_type": "markdown",
   "id": "00ead4b7",
   "metadata": {},
   "source": [
    "## Run Random Actions"
   ]
  },
  {
   "cell_type": "code",
   "execution_count": null,
   "id": "cd8adccf",
   "metadata": {},
   "outputs": [],
   "source": [
    "# Run a few steps with random actions\n",
    "num_steps = 100\n",
    "total_reward = 0\n",
    "\n",
    "observation, info = env.reset(seed=42)\n",
    "\n",
    "for step in range(num_steps):\n",
    "    # Sample a random action\n",
    "    action = env.action_space.sample()\n",
    "    \n",
    "    # Step the environment\n",
    "    observation, reward, terminated, truncated, info = env.step(action)\n",
    "    total_reward += reward\n",
    "    \n",
    "    # Break if episode ends\n",
    "    if terminated or truncated:\n",
    "        print(f\"Episode ended at step {step + 1}\")\n",
    "        break\n",
    "\n",
    "print(f\"\\nTotal steps: {step + 1}\")\n",
    "print(f\"Total reward: {total_reward:.4f}\")\n",
    "print(f\"Terminated: {terminated}, Truncated: {truncated}\")"
   ]
  },
  {
   "cell_type": "markdown",
   "id": "96f5cb5a",
   "metadata": {},
   "source": [
    "## Visualize Episode with Random Actions"
   ]
  },
  {
   "cell_type": "code",
   "execution_count": null,
   "id": "1d0cbad6",
   "metadata": {},
   "outputs": [],
   "source": [
    "# Collect frames for visualization\n",
    "frames = []\n",
    "rewards = []\n",
    "num_steps = 50\n",
    "\n",
    "observation, info = env.reset(seed=123)\n",
    "frames.append(env.render())\n",
    "\n",
    "for step in range(num_steps):\n",
    "    action = env.action_space.sample()\n",
    "    observation, reward, terminated, truncated, info = env.step(action)\n",
    "    \n",
    "    frames.append(env.render())\n",
    "    rewards.append(reward)\n",
    "    \n",
    "    if terminated or truncated:\n",
    "        break\n",
    "\n",
    "print(f\"Collected {len(frames)} frames\")\n",
    "print(f\"Total reward: {sum(rewards):.4f}\")"
   ]
  },
  {
   "cell_type": "markdown",
   "id": "9482beef",
   "metadata": {},
   "source": [
    "## Display Selected Frames"
   ]
  },
  {
   "cell_type": "code",
   "execution_count": null,
   "id": "8c2c633e",
   "metadata": {},
   "outputs": [],
   "source": [
    "# Display 6 frames evenly spaced throughout the episode\n",
    "num_display = 6\n",
    "indices = np.linspace(0, len(frames) - 1, num_display, dtype=int)\n",
    "\n",
    "fig, axes = plt.subplots(2, 3, figsize=(15, 10))\n",
    "axes = axes.flatten()\n",
    "\n",
    "for i, idx in enumerate(indices):\n",
    "    axes[i].imshow(frames[idx])\n",
    "    axes[i].set_title(f\"Step {idx}\")\n",
    "    axes[i].axis('off')\n",
    "\n",
    "plt.tight_layout()\n",
    "plt.show()"
   ]
  },
  {
   "cell_type": "markdown",
   "id": "f6cdddce",
   "metadata": {},
   "source": [
    "## Plot Reward Over Time"
   ]
  },
  {
   "cell_type": "code",
   "execution_count": null,
   "id": "be47cc8e",
   "metadata": {},
   "outputs": [],
   "source": [
    "# Plot the rewards\n",
    "plt.figure(figsize=(12, 4))\n",
    "plt.plot(rewards, label='Reward per step')\n",
    "plt.plot(np.cumsum(rewards), label='Cumulative reward', linestyle='--')\n",
    "plt.xlabel('Step')\n",
    "plt.ylabel('Reward')\n",
    "plt.title('Rewards During Episode')\n",
    "plt.legend()\n",
    "plt.grid(True, alpha=0.3)\n",
    "plt.show()\n",
    "\n",
    "print(f\"Average reward per step: {np.mean(rewards):.4f}\")\n",
    "print(f\"Max reward: {np.max(rewards):.4f}\")\n",
    "print(f\"Min reward: {np.min(rewards):.4f}\")"
   ]
  },
  {
   "cell_type": "markdown",
   "id": "6680fa84",
   "metadata": {},
   "source": [
    "## Explore Action Space"
   ]
  },
  {
   "cell_type": "code",
   "execution_count": null,
   "id": "0705c9fc",
   "metadata": {},
   "outputs": [],
   "source": [
    "# Sample and visualize some actions\n",
    "print(\"Sample actions from the action space:\")\n",
    "for i in range(5):\n",
    "    action = env.action_space.sample()\n",
    "    print(f\"Action {i+1}: {action}\")\n",
    "\n",
    "print(f\"\\nAction space bounds:\")\n",
    "print(f\"Low: {env.action_space.low}\")\n",
    "print(f\"High: {env.action_space.high}\")"
   ]
  },
  {
   "cell_type": "markdown",
   "id": "830edf43",
   "metadata": {},
   "source": [
    "## Clean Up"
   ]
  },
  {
   "cell_type": "code",
   "execution_count": null,
   "id": "31d94e2c",
   "metadata": {},
   "outputs": [],
   "source": [
    "# Close the environment\n",
    "env.close()\n",
    "print(\"Environment closed successfully!\")"
   ]
  },
  {
   "cell_type": "markdown",
   "id": "30619e28",
   "metadata": {},
   "source": [
    "## Next Steps\n",
    "\n",
    "Now that you've explored the PushT environment, you can:\n",
    "\n",
    "1. **Train a policy** - Use LeRobot's ACT, Diffusion, or other policies\n",
    "2. **Load demonstrations** - Load pre-recorded expert demonstrations from Hugging Face\n",
    "3. **Collect data** - Record your own demonstrations for imitation learning\n",
    "4. **Evaluate policies** - Test trained models on the environment\n",
    "5. **Visualize with Rerun** - Use rerun-sdk for 3D visualization\n",
    "\n",
    "Check out the LeRobot documentation for more examples!"
   ]
  }
 ],
 "metadata": {
  "kernelspec": {
   "display_name": "LeRobot",
   "language": "python",
   "name": "python3"
  },
  "language_info": {
   "codemirror_mode": {
    "name": "ipython",
    "version": 3
   },
   "file_extension": ".py",
   "mimetype": "text/x-python",
   "name": "python",
   "nbconvert_exporter": "python",
   "pygments_lexer": "ipython3",
   "version": "3.12.12"
  }
 },
 "nbformat": 4,
 "nbformat_minor": 5
}
